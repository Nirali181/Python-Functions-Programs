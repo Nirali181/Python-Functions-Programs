{
 "cells": [
  {
   "cell_type": "markdown",
   "metadata": {},
   "source": [
    "# No Argument Function"
   ]
  },
  {
   "cell_type": "code",
   "execution_count": 1,
   "metadata": {},
   "outputs": [
    {
     "name": "stdout",
     "output_type": "stream",
     "text": [
      "Hello World\n"
     ]
    }
   ],
   "source": [
    "def my_function():\n",
    "    print(\"Hello World\")\n",
    "    \n",
    "my_function()"
   ]
  },
  {
   "cell_type": "markdown",
   "metadata": {},
   "source": [
    "# With Argument Function"
   ]
  },
  {
   "cell_type": "code",
   "execution_count": 2,
   "metadata": {},
   "outputs": [
    {
     "name": "stdout",
     "output_type": "stream",
     "text": [
      "My name is :  Nirali\n"
     ]
    }
   ],
   "source": [
    "def my_function(name):\n",
    "    print(\"My name is : \",name)\n",
    "    \n",
    "my_function(\"Nirali\")"
   ]
  },
  {
   "cell_type": "markdown",
   "metadata": {},
   "source": [
    "# With Return Statement"
   ]
  },
  {
   "cell_type": "code",
   "execution_count": 33,
   "metadata": {},
   "outputs": [
    {
     "name": "stdout",
     "output_type": "stream",
     "text": [
      "Name is :  Nirali\n"
     ]
    }
   ],
   "source": [
    "def my_function(name):\n",
    "    return name\n",
    "\n",
    "name=my_function(\"Nirali\")\n",
    "print(\"Name is : \",name)\n"
   ]
  },
  {
   "cell_type": "markdown",
   "metadata": {},
   "source": [
    "# Multiple return statement"
   ]
  },
  {
   "cell_type": "code",
   "execution_count": 5,
   "metadata": {},
   "outputs": [
    {
     "name": "stdout",
     "output_type": "stream",
     "text": [
      "Name is :  Akash Technolabs\n",
      "Contact no is :  9978621654\n"
     ]
    }
   ],
   "source": [
    "def my_function():\n",
    "    name = \"Akash Technolabs\"\n",
    "    contact = 9978621654\n",
    "    return name,contact\n",
    "\n",
    "n,c = my_function()\n",
    "print(\"Name is : \",n)\n",
    "print(\"Contact no is : \",c)"
   ]
  },
  {
   "cell_type": "markdown",
   "metadata": {},
   "source": [
    "# Function with default argument"
   ]
  },
  {
   "cell_type": "code",
   "execution_count": 8,
   "metadata": {},
   "outputs": [
    {
     "name": "stdout",
     "output_type": "stream",
     "text": [
      "function called with argument\n",
      "30\n",
      "function called with no argument\n",
      "12\n"
     ]
    }
   ],
   "source": [
    "def sum(a=5,b=7):\n",
    "    print(a+b)\n",
    "\n",
    "print(\"function called with argument\")\n",
    "sum(10,20)\n",
    "print(\"function called with no argument\") \n",
    "sum()"
   ]
  },
  {
   "cell_type": "markdown",
   "metadata": {},
   "source": [
    "# Function With Keyword Argument"
   ]
  },
  {
   "cell_type": "code",
   "execution_count": 11,
   "metadata": {},
   "outputs": [
    {
     "name": "stdout",
     "output_type": "stream",
     "text": [
      "Sub is :  15\n"
     ]
    }
   ],
   "source": [
    "def sum(a,b):\n",
    "    print(\"Sub is : \",a-b)\n",
    "\n",
    "sum(a = 20 , b = 5)"
   ]
  },
  {
   "cell_type": "markdown",
   "metadata": {},
   "source": [
    "# Non Keyword Argument"
   ]
  },
  {
   "cell_type": "code",
   "execution_count": 12,
   "metadata": {},
   "outputs": [
    {
     "name": "stdout",
     "output_type": "stream",
     "text": [
      "Sum is :  30\n",
      "Sum is :  60\n"
     ]
    }
   ],
   "source": [
    "def add(*num):\n",
    "    sum=0\n",
    "    \n",
    "    for n in num:\n",
    "        sum=sum+n\n",
    "    print(\"Sum is : \",sum)\n",
    "\n",
    "add(10,20)\n",
    "add(10,20,30)"
   ]
  },
  {
   "cell_type": "markdown",
   "metadata": {},
   "source": [
    "# Keyword Argument"
   ]
  },
  {
   "cell_type": "code",
   "execution_count": 17,
   "metadata": {},
   "outputs": [
    {
     "name": "stdout",
     "output_type": "stream",
     "text": [
      "Name Nirali\n",
      "Lastname Gosaliya\n"
     ]
    }
   ],
   "source": [
    "def my_fun(**arg):\n",
    "    for i,j in arg.items():\n",
    "        print(i,j)\n",
    "        \n",
    "my_fun(Name = \"Nirali\",Lastname = \"Gosaliya\")"
   ]
  },
  {
   "cell_type": "markdown",
   "metadata": {},
   "source": [
    "# Local Variabels and Gobal Variables"
   ]
  },
  {
   "cell_type": "code",
   "execution_count": 24,
   "metadata": {},
   "outputs": [
    {
     "name": "stdout",
     "output_type": "stream",
     "text": [
      "Local variable is :  10\n",
      "Global varibale is :  100\n"
     ]
    }
   ],
   "source": [
    "def my_fun():\n",
    "    x=10\n",
    "    print(\"Local variable is : \",x)\n",
    "    \n",
    "my_fun()\n",
    "y=100\n",
    "print(\"Global varibale is : \",y)"
   ]
  },
  {
   "cell_type": "markdown",
   "metadata": {},
   "source": [
    "# Arithmetic OPerators In Python"
   ]
  },
  {
   "cell_type": "code",
   "execution_count": 26,
   "metadata": {},
   "outputs": [
    {
     "name": "stdout",
     "output_type": "stream",
     "text": [
      "a + b =  12\n",
      "a - b =  6\n",
      "a * b =  27\n",
      "a / b =  3.0\n",
      "a // b =  3\n",
      "a ** b =  729\n"
     ]
    }
   ],
   "source": [
    "a =  9\n",
    "b = 3\n",
    "\n",
    "print(\"a + b = \",a + b)\n",
    "print(\"a - b = \",a - b)\n",
    "print(\"a * b = \",a * b)\n",
    "print(\"a / b = \",a / b)\n",
    "print(\"a // b = \",a // b)\n",
    "print(\"a ** b = \",a ** b)"
   ]
  },
  {
   "cell_type": "markdown",
   "metadata": {},
   "source": [
    "# Comparison OPerator"
   ]
  },
  {
   "cell_type": "code",
   "execution_count": 27,
   "metadata": {},
   "outputs": [
    {
     "name": "stdout",
     "output_type": "stream",
     "text": [
      "a > y is  True\n",
      "a < y is  False\n",
      "a >= y is  True\n",
      "a <= y is  False\n",
      "a == y is  False\n",
      "a != y is  True\n"
     ]
    }
   ],
   "source": [
    "x=10\n",
    "y=6\n",
    "\n",
    "print(\"a > y is \",x > y)\n",
    "print(\"a < y is \",x < y)\n",
    "print(\"a >= y is \",x >= y)\n",
    "print(\"a <= y is \",x <= y)\n",
    "print(\"a == y is \",x == y)\n",
    "print(\"a != y is \",x != y)"
   ]
  },
  {
   "cell_type": "markdown",
   "metadata": {},
   "source": [
    "# Logical and operator"
   ]
  },
  {
   "cell_type": "code",
   "execution_count": 31,
   "metadata": {},
   "outputs": [
    {
     "name": "stdout",
     "output_type": "stream",
     "text": [
      "First number is :  10\n",
      "Second number is :  30\n",
      "Third number is :  50\n",
      "Greatest number is n3\n"
     ]
    }
   ],
   "source": [
    "n1=10\n",
    "print(\"First number is : \",n1)\n",
    "\n",
    "n2=30\n",
    "print(\"Second number is : \",n2)\n",
    "\n",
    "n3=50\n",
    "print(\"Third number is : \",n3)\n",
    "\n",
    "if n1>n2 and n1>n3:\n",
    "    print(\"Greatest number is n1\")\n",
    "elif n2>n1 and n2>n3:\n",
    "    print(\"Greatest number is n2\")\n",
    "else:\n",
    "    print(\"Greatest number is n3\")"
   ]
  },
  {
   "cell_type": "markdown",
   "metadata": {},
   "source": [
    "# Logical or operator "
   ]
  },
  {
   "cell_type": "code",
   "execution_count": 35,
   "metadata": {},
   "outputs": [
    {
     "name": "stdout",
     "output_type": "stream",
     "text": [
      "Enter a characterE\n",
      "E is a vowel\n"
     ]
    }
   ],
   "source": [
    "ch=input(\"Enter a character\")\n",
    "\n",
    "if(ch=='A' or ch=='a' or ch=='E' or ch=='e' or ch=='I' or ch=='i' or ch=='O' or ch=='o' or ch=='U' or ch=='u'):\n",
    "    print(ch ,\"is a vowel\")\n",
    "else:\n",
    "    print(ch, \"is a consonant\")\n"
   ]
  },
  {
   "cell_type": "markdown",
   "metadata": {},
   "source": [
    "# Assignment OPerators"
   ]
  },
  {
   "cell_type": "code",
   "execution_count": 42,
   "metadata": {},
   "outputs": [
    {
     "name": "stdout",
     "output_type": "stream",
     "text": [
      "False\n",
      "+= is :  15\n",
      "-= is :  2\n",
      "%=is :  1\n",
      "/= is :  0.2\n",
      "//= is :  0\n"
     ]
    }
   ],
   "source": [
    "x=10\n",
    "y=3\n",
    "\n",
    "if x==y:\n",
    "    print(\"True\")\n",
    "else:\n",
    "    print(\"False\")\n",
    "\n",
    "x+=5\n",
    "print(\"+= is : \",x)\n",
    "\n",
    "y-=1\n",
    "print(\"-= is : \",y)\n",
    "\n",
    "x%=2\n",
    "print(\"%=is : \",x)\n",
    "\n",
    "x/=5\n",
    "print(\"/= is : \",x)\n",
    "\n",
    "y//=7\n",
    "print(\"//= is : \",y)"
   ]
  },
  {
   "cell_type": "markdown",
   "metadata": {},
   "source": [
    "# Membership operator "
   ]
  },
  {
   "cell_type": "code",
   "execution_count": 43,
   "metadata": {},
   "outputs": [
    {
     "name": "stdout",
     "output_type": "stream",
     "text": [
      "False\n",
      "True\n",
      "True\n"
     ]
    }
   ],
   "source": [
    "x=10\n",
    "y=300\n",
    "\n",
    "list1=[100,200,300,400,500]\n",
    "\n",
    "print(\"x is in list1 : \",list1)\n",
    "print(\" inlist1)\n",
    "print(x not in list1)"
   ]
  },
  {
   "cell_type": "markdown",
   "metadata": {},
   "source": [
    "# Identity Operator"
   ]
  },
  {
   "cell_type": "code",
   "execution_count": 45,
   "metadata": {},
   "outputs": [
    {
     "name": "stdout",
     "output_type": "stream",
     "text": [
      "x is y :  False\n",
      "x is not y :  True\n"
     ]
    }
   ],
   "source": [
    "x=8345\n",
    "y=4643\n",
    "\n",
    "print(\"x is y : \",x is y)\n",
    "\n",
    "print(\"x is not y : \",x is not y)"
   ]
  },
  {
   "cell_type": "code",
   "execution_count": null,
   "metadata": {},
   "outputs": [],
   "source": []
  }
 ],
 "metadata": {
  "kernelspec": {
   "display_name": "Python 3",
   "language": "python",
   "name": "python3"
  },
  "language_info": {
   "codemirror_mode": {
    "name": "ipython",
    "version": 3
   },
   "file_extension": ".py",
   "mimetype": "text/x-python",
   "name": "python",
   "nbconvert_exporter": "python",
   "pygments_lexer": "ipython3",
   "version": "3.7.4"
  }
 },
 "nbformat": 4,
 "nbformat_minor": 2
}
